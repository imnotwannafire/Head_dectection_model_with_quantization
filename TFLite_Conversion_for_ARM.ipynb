{
  "nbformat": 4,
  "nbformat_minor": 0,
  "metadata": {
    "colab": {
      "provenance": [],
      "authorship_tag": "ABX9TyOP2uvNE9qgKC0vZsYpcK6U",
      "include_colab_link": true
    },
    "kernelspec": {
      "name": "python3",
      "display_name": "Python 3"
    },
    "language_info": {
      "name": "python"
    }
  },
  "cells": [
    {
      "cell_type": "markdown",
      "metadata": {
        "id": "view-in-github",
        "colab_type": "text"
      },
      "source": [
        "<a href=\"https://colab.research.google.com/github/imnotwannafire/Head_dectection_model_with_quantization/blob/main/TFLite_Conversion_for_ARM.ipynb\" target=\"_parent\"><img src=\"https://colab.research.google.com/assets/colab-badge.svg\" alt=\"Open In Colab\"/></a>"
      ]
    },
    {
      "cell_type": "code",
      "execution_count": 1,
      "metadata": {
        "colab": {
          "base_uri": "https://localhost:8080/"
        },
        "id": "C_boJ9-xkRd7",
        "outputId": "230271d3-cdfc-48ab-f1fa-7e0011b519df"
      },
      "outputs": [
        {
          "output_type": "stream",
          "name": "stdout",
          "text": [
            "Collecting ethos-u-vela\n",
            "  Downloading ethos_u_vela-4.3.0-cp311-cp311-manylinux_2_17_x86_64.manylinux2014_x86_64.whl.metadata (9.5 kB)\n",
            "Collecting flatbuffers==24.3.25 (from ethos-u-vela)\n",
            "  Downloading flatbuffers-24.3.25-py2.py3-none-any.whl.metadata (850 bytes)\n",
            "Requirement already satisfied: numpy>=1.23.0 in /usr/local/lib/python3.11/dist-packages (from ethos-u-vela) (2.0.2)\n",
            "Requirement already satisfied: lxml>=4.7.1 in /usr/local/lib/python3.11/dist-packages (from ethos-u-vela) (5.4.0)\n",
            "Downloading ethos_u_vela-4.3.0-cp311-cp311-manylinux_2_17_x86_64.manylinux2014_x86_64.whl (1.8 MB)\n",
            "\u001b[2K   \u001b[90m━━━━━━━━━━━━━━━━━━━━━━━━━━━━━━━━━━━━━━━━\u001b[0m \u001b[32m1.8/1.8 MB\u001b[0m \u001b[31m25.8 MB/s\u001b[0m eta \u001b[36m0:00:00\u001b[0m\n",
            "\u001b[?25hDownloading flatbuffers-24.3.25-py2.py3-none-any.whl (26 kB)\n",
            "Installing collected packages: flatbuffers, ethos-u-vela\n",
            "  Attempting uninstall: flatbuffers\n",
            "    Found existing installation: flatbuffers 25.2.10\n",
            "    Uninstalling flatbuffers-25.2.10:\n",
            "      Successfully uninstalled flatbuffers-25.2.10\n",
            "Successfully installed ethos-u-vela-4.3.0 flatbuffers-24.3.25\n"
          ]
        }
      ],
      "source": [
        "!pip install ethos-u-vela"
      ]
    },
    {
      "cell_type": "code",
      "source": [
        "\n",
        "!vela --version"
      ],
      "metadata": {
        "colab": {
          "base_uri": "https://localhost:8080/"
        },
        "id": "Mg8QY5i-kb0W",
        "outputId": "bc02e912-ede7-4bf6-80b8-4c25d33adfbe"
      },
      "execution_count": 2,
      "outputs": [
        {
          "output_type": "stream",
          "name": "stdout",
          "text": [
            "4.3.0\n"
          ]
        }
      ]
    },
    {
      "cell_type": "code",
      "source": [
        "!vela best_full_integer_quant.tflite --accelerator-config ethos-u55-64\n"
      ],
      "metadata": {
        "colab": {
          "base_uri": "https://localhost:8080/"
        },
        "id": "8kRnUhfMkgBR",
        "outputId": "6e0a5211-178e-49a5-995e-c9ad15e75548"
      },
      "execution_count": 3,
      "outputs": [
        {
          "output_type": "stream",
          "name": "stdout",
          "text": [
            "Warning: No configuration file specified. Using a default of ['/usr/local/lib/python3.11/dist-packages/ethosu/config_files/Arm/vela.ini']. Compilation may be invalid or non-optimal.\n",
            "Warning: No system configuration specified. Using a default of Ethos_U55_High_End_Embedded. Compilation may be invalid or non-optimal.\n",
            "Warning: No memory mode specified. Using a default of Shared_Sram. Compilation may be invalid or non-optimal.\n",
            "Warning: TRANSPOSE 'model_6/tf.compat.v1.transpose_76/transpose;model_6/tf.compat.v1.transpose_75/transpose/perm;model_6/tf.compat.v1.transpose_75/transpose;' is not supported on the NPU. Placing on CPU instead\n",
            " - The following shape/permutations are supported for transpose:\n",
            "        When ifm rank is 2: WxC -> CxW\n",
            "        When ifm rank is 3: HxWxC -> WxHxC, 1xWxC -> 1xCxW, Hx1xC -> Cx1xH\n",
            "        When ifm rank is 4: 1xHxWxC -> 1xWxHxC, 1x1xWxC -> 1x1xCxW, 1xHx1xC -> 1xCx1xW\n",
            "   Op has ifm_shape: [1, 4, 16, 756] and permutation is: [0 1 3 2]\n",
            "Warning: TRANSPOSE 'model_6/tf.compat.v1.transpose_50/transpose' is not supported on the NPU. Placing on CPU instead\n",
            " - The following shape/permutations are supported for transpose:\n",
            "        When ifm rank is 2: WxC -> CxW\n",
            "        When ifm rank is 3: HxWxC -> WxHxC, 1xWxC -> 1xCxW, Hx1xC -> Cx1xH\n",
            "        When ifm rank is 4: 1xHxWxC -> 1xWxHxC, 1x1xWxC -> 1x1xCxW, 1xHx1xC -> 1xCx1xW\n",
            "   Op has ifm_shape: [1, 24, 24, 65] and permutation is: [0 3 1 2]\n",
            "Warning: TRANSPOSE 'model_6/tf.compat.v1.transpose_62/transpose' is not supported on the NPU. Placing on CPU instead\n",
            " - The following shape/permutations are supported for transpose:\n",
            "        When ifm rank is 2: WxC -> CxW\n",
            "        When ifm rank is 3: HxWxC -> WxHxC, 1xWxC -> 1xCxW, Hx1xC -> Cx1xH\n",
            "        When ifm rank is 4: 1xHxWxC -> 1xWxHxC, 1x1xWxC -> 1x1xCxW, 1xHx1xC -> 1xCx1xW\n",
            "   Op has ifm_shape: [1, 12, 12, 65] and permutation is: [0 3 1 2]\n",
            "Warning: TRANSPOSE 'model_6/tf.compat.v1.transpose_72/transpose' is not supported on the NPU. Placing on CPU instead\n",
            " - The following shape/permutations are supported for transpose:\n",
            "        When ifm rank is 2: WxC -> CxW\n",
            "        When ifm rank is 3: HxWxC -> WxHxC, 1xWxC -> 1xCxW, Hx1xC -> Cx1xH\n",
            "        When ifm rank is 4: 1xHxWxC -> 1xWxHxC, 1x1xWxC -> 1x1xCxW, 1xHx1xC -> 1xCx1xW\n",
            "   Op has ifm_shape: [1, 6, 6, 65] and permutation is: [0 3 1 2]\n",
            "\n",
            "Network summary for best_full_integer_quant\n",
            "Accelerator configuration                Ethos_U55_64\n",
            "System configuration             Ethos_U55_High_End_Embedded\n",
            "Memory mode                               Shared_Sram\n",
            "Accelerator clock                                 500 MHz\n",
            "Design peak SRAM bandwidth                       3.73 GB/s\n",
            "Design peak Off-chip Flash bandwidth             0.47 GB/s\n",
            "\n",
            "Total SRAM used                                993.00 KiB\n",
            "Total Off-chip Flash used                     2228.70 KiB\n",
            "\n",
            "CPU operators = 4 (0.8%)\n",
            "NPU operators = 512 (99.2%)\n",
            "\n",
            "Average SRAM bandwidth                           0.99 GB/s\n",
            "Input   SRAM bandwidth                          22.32 MB/batch\n",
            "Weight  SRAM bandwidth                           9.80 MB/batch\n",
            "Output  SRAM bandwidth                          14.60 MB/batch\n",
            "Total   SRAM bandwidth                          46.76 MB/batch\n",
            "Total   SRAM bandwidth            per input     46.76 MB/inference (batch size 1)\n",
            "\n",
            "Average Off-chip Flash bandwidth                 0.04 GB/s\n",
            "Input   Off-chip Flash bandwidth                 0.01 MB/batch\n",
            "Weight  Off-chip Flash bandwidth                 2.07 MB/batch\n",
            "Output  Off-chip Flash bandwidth                 0.00 MB/batch\n",
            "Total   Off-chip Flash bandwidth                 2.09 MB/batch\n",
            "Total   Off-chip Flash bandwidth  per input      2.09 MB/inference (batch size 1)\n",
            "\n",
            "Neural network macs                         365040288 MACs/batch\n",
            "\n"
          ]
        }
      ]
    },
    {
      "cell_type": "code",
      "source": [
        "!vela --accelerator-config ethos-u55-64 --config vela_config.ini --system-config My_Sys_Cfg --memory-mode My_Mem_Mode_Parent --output-dir output best_full_integer_quant.tflite"
      ],
      "metadata": {
        "colab": {
          "base_uri": "https://localhost:8080/"
        },
        "id": "InLr9VnXla_T",
        "outputId": "cc4b580a-2487-43bf-8d2d-d0152a4c982f"
      },
      "execution_count": 6,
      "outputs": [
        {
          "output_type": "stream",
          "name": "stdout",
          "text": [
            "Warning: TRANSPOSE 'model_6/tf.compat.v1.transpose_76/transpose;model_6/tf.compat.v1.transpose_75/transpose/perm;model_6/tf.compat.v1.transpose_75/transpose;' is not supported on the NPU. Placing on CPU instead\n",
            " - The following shape/permutations are supported for transpose:\n",
            "        When ifm rank is 2: WxC -> CxW\n",
            "        When ifm rank is 3: HxWxC -> WxHxC, 1xWxC -> 1xCxW, Hx1xC -> Cx1xH\n",
            "        When ifm rank is 4: 1xHxWxC -> 1xWxHxC, 1x1xWxC -> 1x1xCxW, 1xHx1xC -> 1xCx1xW\n",
            "   Op has ifm_shape: [1, 4, 16, 756] and permutation is: [0 1 3 2]\n",
            "Warning: TRANSPOSE 'model_6/tf.compat.v1.transpose_50/transpose' is not supported on the NPU. Placing on CPU instead\n",
            " - The following shape/permutations are supported for transpose:\n",
            "        When ifm rank is 2: WxC -> CxW\n",
            "        When ifm rank is 3: HxWxC -> WxHxC, 1xWxC -> 1xCxW, Hx1xC -> Cx1xH\n",
            "        When ifm rank is 4: 1xHxWxC -> 1xWxHxC, 1x1xWxC -> 1x1xCxW, 1xHx1xC -> 1xCx1xW\n",
            "   Op has ifm_shape: [1, 24, 24, 65] and permutation is: [0 3 1 2]\n",
            "Warning: TRANSPOSE 'model_6/tf.compat.v1.transpose_62/transpose' is not supported on the NPU. Placing on CPU instead\n",
            " - The following shape/permutations are supported for transpose:\n",
            "        When ifm rank is 2: WxC -> CxW\n",
            "        When ifm rank is 3: HxWxC -> WxHxC, 1xWxC -> 1xCxW, Hx1xC -> Cx1xH\n",
            "        When ifm rank is 4: 1xHxWxC -> 1xWxHxC, 1x1xWxC -> 1x1xCxW, 1xHx1xC -> 1xCx1xW\n",
            "   Op has ifm_shape: [1, 12, 12, 65] and permutation is: [0 3 1 2]\n",
            "Warning: TRANSPOSE 'model_6/tf.compat.v1.transpose_72/transpose' is not supported on the NPU. Placing on CPU instead\n",
            " - The following shape/permutations are supported for transpose:\n",
            "        When ifm rank is 2: WxC -> CxW\n",
            "        When ifm rank is 3: HxWxC -> WxHxC, 1xWxC -> 1xCxW, Hx1xC -> Cx1xH\n",
            "        When ifm rank is 4: 1xHxWxC -> 1xWxHxC, 1x1xWxC -> 1x1xCxW, 1xHx1xC -> 1xCx1xW\n",
            "   Op has ifm_shape: [1, 6, 6, 65] and permutation is: [0 3 1 2]\n",
            "\n",
            "Network summary for best_full_integer_quant\n",
            "Accelerator configuration                Ethos_U55_64\n",
            "System configuration                       My_Sys_Cfg\n",
            "Memory mode                        My_Mem_Mode_Parent\n",
            "Accelerator clock                                 400 MHz\n",
            "Design peak SRAM bandwidth                       2.98 GB/s\n",
            "Design peak Off-chip Flash bandwidth             0.05 GB/s\n",
            "\n",
            "Total SRAM used                                993.00 KiB\n",
            "Total Off-chip Flash used                     2235.77 KiB\n",
            "\n",
            "CPU operators = 4 (0.8%)\n",
            "NPU operators = 512 (99.2%)\n",
            "\n",
            "Average SRAM bandwidth                           0.53 GB/s\n",
            "Input   SRAM bandwidth                          22.32 MB/batch\n",
            "Weight  SRAM bandwidth                           9.81 MB/batch\n",
            "Output  SRAM bandwidth                          14.60 MB/batch\n",
            "Total   SRAM bandwidth                          46.77 MB/batch\n",
            "Total   SRAM bandwidth            per input     46.77 MB/inference (batch size 1)\n",
            "\n",
            "Average Off-chip Flash bandwidth                 0.02 GB/s\n",
            "Input   Off-chip Flash bandwidth                 0.01 MB/batch\n",
            "Weight  Off-chip Flash bandwidth                 2.07 MB/batch\n",
            "Output  Off-chip Flash bandwidth                 0.00 MB/batch\n",
            "Total   Off-chip Flash bandwidth                 2.09 MB/batch\n",
            "Total   Off-chip Flash bandwidth  per input      2.09 MB/inference (batch size 1)\n",
            "\n",
            "Neural network macs                         365040288 MACs/batch\n",
            "\n"
          ]
        }
      ]
    }
  ]
}